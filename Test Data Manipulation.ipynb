{
 "metadata": {
  "name": ""
 },
 "nbformat": 3,
 "nbformat_minor": 0,
 "worksheets": [
  {
   "cells": [
    {
     "cell_type": "code",
     "collapsed": false,
     "input": [
      "import urllib2\n",
      "import numpy as np\n",
      "import matplotlib as mpl\n",
      "import pylab as pl\n",
      "import pandas as pd\n",
      "import os\n",
      "import json\n",
      "import rpy2\n",
      "import pandas.rpy.common as com\n",
      "from pandas import DataFrame\n",
      "from rpy2.robjects import r\n"
     ],
     "language": "python",
     "metadata": {},
     "outputs": [],
     "prompt_number": 31
    },
    {
     "cell_type": "code",
     "collapsed": false,
     "input": [
      "file = open(\"test.csv\",\"r\")\n",
      "cleanFile = open(\"testClean.csv\",\"w+\")\n",
      "cleanFile.write(file.next())\n",
      "for line in file:\n",
      "    columns = line.split(',')\n",
      "    cleanFile.write(line.replace(\"NULL\",str(int(0))).replace(\"YES\",str(int(2))).replace(\"NO\",str(int(1))).replace(\"GREEN\",str(int(2))).replace(\"RED\",str(int(1))))\n",
      "cleanFile.close()\n",
      "file.close()"
     ],
     "language": "python",
     "metadata": {},
     "outputs": [],
     "prompt_number": 32
    },
    {
     "cell_type": "code",
     "collapsed": false,
     "input": [
      "dataFrame = pd.read_csv(\"testClean.csv\")"
     ],
     "language": "python",
     "metadata": {},
     "outputs": [],
     "prompt_number": 33
    },
    {
     "cell_type": "code",
     "collapsed": false,
     "input": [
      "dataFrameClean = dataFrame.copy()\n",
      "#dataFrameClean['AvgOdo'] = dataFrameClean['VehOdo']/dataFrameClean['VehicleAge']\n",
      "del dataFrameClean['Nationality']\n",
      "del dataFrameClean['PurchDate']\n",
      "del dataFrameClean['Color']\n",
      "del dataFrameClean['IsOnlineSale']\n",
      "del dataFrameClean['Transmission']\n",
      "del dataFrameClean['VNST']\n",
      "del dataFrameClean['Size']\n",
      "del dataFrameClean['TopThreeAmericanName']\n",
      "del dataFrameClean['Make']\n",
      "del dataFrameClean['BYRNO']\n",
      "del dataFrameClean['Auction']\n",
      "del dataFrameClean['WheelType']\n",
      "del dataFrameClean['Trim']\n",
      "##Same as VehAge\n",
      "del dataFrameClean['VehYear']\n",
      "##Information Leak - Do not know Cost at time of Purchase in future\n",
      "del dataFrameClean['VehBCost']\n",
      "#We are not concerend with the Current Price of cars only at time of purchase\n",
      "del dataFrameClean['MMRCurrentAuctionAveragePrice']\n",
      "del dataFrameClean['MMRCurrentAuctionCleanPrice']\n",
      "del dataFrameClean['MMRCurrentRetailCleanPrice']\n",
      "del dataFrameClean['MMRCurrentRetailAveragePrice']\n",
      "del dataFrameClean['Model']\n",
      "del dataFrameClean['SubModel']\n",
      "del dataFrameClean['RefId']"
     ],
     "language": "python",
     "metadata": {},
     "outputs": [],
     "prompt_number": 34
    },
    {
     "cell_type": "code",
     "collapsed": false,
     "input": [
      "dataFrameClean.head()"
     ],
     "language": "python",
     "metadata": {},
     "outputs": [
      {
       "html": [
        "<div style=\"max-height:1000px;max-width:1500px;overflow:auto;\">\n",
        "<table border=\"1\" class=\"dataframe\">\n",
        "  <thead>\n",
        "    <tr style=\"text-align: right;\">\n",
        "      <th></th>\n",
        "      <th>VehicleAge</th>\n",
        "      <th>WheelTypeID</th>\n",
        "      <th>VehOdo</th>\n",
        "      <th>MMRAcquisitionAuctionAveragePrice</th>\n",
        "      <th>MMRAcquisitionAuctionCleanPrice</th>\n",
        "      <th>MMRAcquisitionRetailAveragePrice</th>\n",
        "      <th>MMRAcquisitonRetailCleanPrice</th>\n",
        "      <th>PRIMEUNIT</th>\n",
        "      <th>AUCGUART</th>\n",
        "      <th>VNZIP1</th>\n",
        "      <th>WarrantyCost</th>\n",
        "    </tr>\n",
        "  </thead>\n",
        "  <tbody>\n",
        "    <tr>\n",
        "      <th>0</th>\n",
        "      <td> 4</td>\n",
        "      <td> 1</td>\n",
        "      <td> 85377</td>\n",
        "      <td>  5032</td>\n",
        "      <td>  6386</td>\n",
        "      <td>  5935</td>\n",
        "      <td>  7397</td>\n",
        "      <td> 0</td>\n",
        "      <td> 0</td>\n",
        "      <td> 30212</td>\n",
        "      <td> 2152</td>\n",
        "    </tr>\n",
        "    <tr>\n",
        "      <th>1</th>\n",
        "      <td> 4</td>\n",
        "      <td> 1</td>\n",
        "      <td> 61873</td>\n",
        "      <td>  4502</td>\n",
        "      <td>  5685</td>\n",
        "      <td>  5362</td>\n",
        "      <td>  6640</td>\n",
        "      <td> 0</td>\n",
        "      <td> 0</td>\n",
        "      <td> 30212</td>\n",
        "      <td> 1118</td>\n",
        "    </tr>\n",
        "    <tr>\n",
        "      <th>2</th>\n",
        "      <td> 3</td>\n",
        "      <td> 1</td>\n",
        "      <td> 69283</td>\n",
        "      <td> 10244</td>\n",
        "      <td> 13041</td>\n",
        "      <td> 11564</td>\n",
        "      <td> 14584</td>\n",
        "      <td> 0</td>\n",
        "      <td> 0</td>\n",
        "      <td> 30212</td>\n",
        "      <td> 1215</td>\n",
        "    </tr>\n",
        "    <tr>\n",
        "      <th>3</th>\n",
        "      <td> 7</td>\n",
        "      <td> 1</td>\n",
        "      <td> 87889</td>\n",
        "      <td>  2558</td>\n",
        "      <td>  3542</td>\n",
        "      <td>  3263</td>\n",
        "      <td>  4325</td>\n",
        "      <td> 0</td>\n",
        "      <td> 0</td>\n",
        "      <td> 30212</td>\n",
        "      <td> 1933</td>\n",
        "    </tr>\n",
        "    <tr>\n",
        "      <th>4</th>\n",
        "      <td> 2</td>\n",
        "      <td> 0</td>\n",
        "      <td> 73432</td>\n",
        "      <td>  5013</td>\n",
        "      <td>  6343</td>\n",
        "      <td>  5914</td>\n",
        "      <td>  7350</td>\n",
        "      <td> 0</td>\n",
        "      <td> 0</td>\n",
        "      <td> 30212</td>\n",
        "      <td>  920</td>\n",
        "    </tr>\n",
        "  </tbody>\n",
        "</table>\n",
        "</div>"
       ],
       "metadata": {},
       "output_type": "pyout",
       "prompt_number": 35,
       "text": [
        "   VehicleAge  WheelTypeID  VehOdo  MMRAcquisitionAuctionAveragePrice  \\\n",
        "0           4            1   85377                               5032   \n",
        "1           4            1   61873                               4502   \n",
        "2           3            1   69283                              10244   \n",
        "3           7            1   87889                               2558   \n",
        "4           2            0   73432                               5013   \n",
        "\n",
        "   MMRAcquisitionAuctionCleanPrice  MMRAcquisitionRetailAveragePrice  \\\n",
        "0                             6386                              5935   \n",
        "1                             5685                              5362   \n",
        "2                            13041                             11564   \n",
        "3                             3542                              3263   \n",
        "4                             6343                              5914   \n",
        "\n",
        "   MMRAcquisitonRetailCleanPrice  PRIMEUNIT  AUCGUART  VNZIP1  WarrantyCost  \n",
        "0                           7397          0         0   30212          2152  \n",
        "1                           6640          0         0   30212          1118  \n",
        "2                          14584          0         0   30212          1215  \n",
        "3                           4325          0         0   30212          1933  \n",
        "4                           7350          0         0   30212           920  "
       ]
      }
     ],
     "prompt_number": 35
    },
    {
     "cell_type": "code",
     "collapsed": false,
     "input": [],
     "language": "python",
     "metadata": {},
     "outputs": [],
     "prompt_number": 35
    },
    {
     "cell_type": "code",
     "collapsed": false,
     "input": [
      "def add_pandas_df_to_r(pd_df, r_name):\n",
      "    df_r = com.convert_to_r_dataframe(pd_df)\n",
      "    r.assign(r_name, df_r)"
     ],
     "language": "python",
     "metadata": {},
     "outputs": [],
     "prompt_number": 36
    },
    {
     "cell_type": "code",
     "collapsed": false,
     "input": [
      "add_pandas_df_to_r(dataFrameClean,'testData')"
     ],
     "language": "python",
     "metadata": {},
     "outputs": [],
     "prompt_number": 37
    },
    {
     "cell_type": "code",
     "collapsed": false,
     "input": [
      "%load_ext rmagic"
     ],
     "language": "python",
     "metadata": {},
     "outputs": [
      {
       "output_type": "stream",
       "stream": "stdout",
       "text": [
        "The rmagic extension is already loaded. To reload it, use:\n",
        "  %reload_ext rmagic\n"
       ]
      }
     ],
     "prompt_number": 38
    },
    {
     "cell_type": "code",
     "collapsed": false,
     "input": [
      "%%R\n",
      "\n",
      "testData$VehOdoAdj <- testData$VehOdo / testData$VehicleAge\n",
      "\n",
      "testData$AdjMMRAcquisitionAuctionAveragePrice = testData$MMRAcquisitionAuctionAveragePrice / testData$VehicleAge\n",
      "testData$AdjMMRAcquisitionAuctionCleanPrice = testData$MMRAcquisitionAuctionCleanPrice / testData$VehicleAge\n",
      "testData$AdjMMRAcquisitionRetailAveragePrice = testData$MMRAcquisitionRetailAveragePrice / testData$VehicleAge\n",
      "testData$AdjMMRAcquisitonRetailCleanPrice = testData$MMRAcquisitonRetailCleanPrice / testData$VehicleAge\n",
      "\n",
      "testData[testData == Inf] = 0\n",
      "testData[is.na(testData)] = 0\n"
     ],
     "language": "python",
     "metadata": {},
     "outputs": [],
     "prompt_number": 43
    },
    {
     "cell_type": "code",
     "collapsed": false,
     "input": [
      "testDataClean = com.load_data(\"testData\")"
     ],
     "language": "python",
     "metadata": {},
     "outputs": [],
     "prompt_number": 44
    },
    {
     "cell_type": "code",
     "collapsed": false,
     "input": [
      "print testDataClean.head()"
     ],
     "language": "python",
     "metadata": {},
     "outputs": [
      {
       "output_type": "stream",
       "stream": "stdout",
       "text": [
        "   VehicleAge  WheelTypeID  VehOdo  MMRAcquisitionAuctionAveragePrice  \\\n",
        "0           4            1   85377                               5032   \n",
        "1           4            1   61873                               4502   \n",
        "2           3            1   69283                              10244   \n",
        "3           7            1   87889                               2558   \n",
        "4           2            0   73432                               5013   \n",
        "\n",
        "   MMRAcquisitionAuctionCleanPrice  MMRAcquisitionRetailAveragePrice  \\\n",
        "0                             6386                              5935   \n",
        "1                             5685                              5362   \n",
        "2                            13041                             11564   \n",
        "3                             3542                              3263   \n",
        "4                             6343                              5914   \n",
        "\n",
        "   MMRAcquisitonRetailCleanPrice  PRIMEUNIT  AUCGUART  VNZIP1  WarrantyCost  \\\n",
        "0                           7397          0         0   30212          2152   \n",
        "1                           6640          0         0   30212          1118   \n",
        "2                          14584          0         0   30212          1215   \n",
        "3                           4325          0         0   30212          1933   \n",
        "4                           7350          0         0   30212           920   \n",
        "\n",
        "      VehOdoAdj  AdjMMRAcquisitionAuctionAveragePrice  \\\n",
        "0  21344.250000                           1258.000000   \n",
        "1  15468.250000                           1125.500000   \n",
        "2  23094.333333                           3414.666667   \n",
        "3  12555.571429                            365.428571   \n",
        "4  36716.000000                           2506.500000   \n",
        "\n",
        "   AdjMMRAcquisitionAuctionCleanPrice  AdjMMRAcquisitionRetailAveragePrice  \\\n",
        "0                             1596.50                          1483.750000   \n",
        "1                             1421.25                          1340.500000   \n",
        "2                             4347.00                          3854.666667   \n",
        "3                              506.00                           466.142857   \n",
        "4                             3171.50                          2957.000000   \n",
        "\n",
        "   AdjMMRAcquisitonRetailCleanPrice  \n",
        "0                       1849.250000  \n",
        "1                       1660.000000  \n",
        "2                       4861.333333  \n",
        "3                        617.857143  \n",
        "4                       3675.000000  \n"
       ]
      }
     ],
     "prompt_number": 45
    },
    {
     "cell_type": "code",
     "collapsed": false,
     "input": [
      "testDataClean.to_csv('testDataClean.csv')"
     ],
     "language": "python",
     "metadata": {},
     "outputs": [],
     "prompt_number": 46
    },
    {
     "cell_type": "code",
     "collapsed": false,
     "input": [],
     "language": "python",
     "metadata": {},
     "outputs": []
    }
   ],
   "metadata": {}
  }
 ]
}